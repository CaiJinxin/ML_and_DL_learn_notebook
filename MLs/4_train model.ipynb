{
 "cells": [
  {
   "cell_type": "markdown",
   "metadata": {},
   "source": [
    "# 线性回归"
   ]
  },
  {
   "cell_type": "markdown",
   "metadata": {},
   "source": [
    "## 基本概念\n",
    "线性回归模型  \n",
    "\n",
    "$\\hat{y}=\\theta_{0}+\\theta_{1}x_{1}+\\theta_{2}x_{2}+\\cdots+\\theta_{n}x_{n}$\n",
    "\n",
    "· $\\hat{y}$是预测值  \n",
    "· $n$是特征的数目  \n",
    "· $x_{i}$是第i个特征值  \n",
    "· $\\theta{i}$是第i个特征值的权重\n",
    "\n",
    "我们可以表示成矩阵形式：  \n",
    "$\\hat{y}=h_{\\theta}(x)=\\theta^T\\cdot x$\n",
    "\n",
    "· $\\theta$是模型的参数向量，包含偏置和各项特征的权重  \n",
    "· $x$是特征的向量，其中$x_{0}$为1  \n",
    "· $h_{\\theta}$是假设函数  \n",
    "  \n",
    "  通常使用MSE即预测值到曲线的距离的平方来评估模型，也即是最小化MSE函数来选择模型  \n",
    "  MSE损失函数：  \n",
    "  $MSE(X,h_{\\theta})=\\frac{1}{m}\\sum_{i=1}^{m}(\\theta^T\\cdot x^{(i)}-y^{(i)})^2$  \n",
    "    \n",
    "  由于$MSE(X, h_{\\theta})$在测试集既定的情况下，只与模型的$\\theta$有关，所以我们简单表示为$MSE(\\theta)$  \n",
    "  \n",
    " 等价问题为：  \n",
    "$\\hat{\\theta}=(X^T\\cdot X)^{-1}\\cdot X^T\\cdot y$"
   ]
  },
  {
   "cell_type": "markdown",
   "metadata": {},
   "source": [
    "## 线性回归模型"
   ]
  },
  {
   "cell_type": "markdown",
   "metadata": {},
   "source": [
    "使用随机函数生成一个类线性的数据集"
   ]
  },
  {
   "cell_type": "code",
   "execution_count": 1,
   "metadata": {
    "ExecuteTime": {
     "end_time": "2018-03-13T01:36:30.277136Z",
     "start_time": "2018-03-13T01:35:49.163324Z"
    }
   },
   "outputs": [
    {
     "data": {
      "text/plain": [
       "[<matplotlib.lines.Line2D at 0x2608a581b00>]"
      ]
     },
     "execution_count": 1,
     "metadata": {},
     "output_type": "execute_result"
    },
    {
     "data": {
      "image/png": "[encoded data removed]",
      "text/plain": [
       "<Figure size 432x288 with 1 Axes>"
      ]
     },
     "metadata": {},
     "output_type": "display_data"
    }
   ],
   "source": [
    "%matplotlib inline\n",
    "import numpy as np\n",
    "import matplotlib.pyplot as plt\n",
    "\n",
    "np.random.seed(42)\n",
    "X = 2 * np.random.rand(100, 1)\n",
    "y = 4 + 3 * X + np.random.rand(100, 1)\n",
    "plt.plot(X, y, 'b.')"
   ]
  },
  {
   "cell_type": "code",
   "execution_count": 2,
   "metadata": {
    "ExecuteTime": {
     "end_time": "2018-03-13T01:36:30.796404Z",
     "start_time": "2018-03-13T01:36:30.286130Z"
    }
   },
   "outputs": [
    {
     "data": {
      "text/plain": [
       "array([[ 4.51359766],\n",
       "       [ 2.98323418]])"
      ]
     },
     "execution_count": 2,
     "metadata": {},
     "output_type": "execute_result"
    }
   ],
   "source": [
    "#下面我们根据等式计算参数：\n",
    "X_b = np.c_[np.ones((100,1)), X]    #这是在每个实例中使得 x0=1\n",
    "theta_best = np.linalg.inv(X_b.T.dot(X_b)).dot(X_b.T).dot(y)\n",
    "theta_best"
   ]
  },
  {
   "cell_type": "code",
   "execution_count": 3,
   "metadata": {
    "ExecuteTime": {
     "end_time": "2018-03-13T01:36:30.856447Z",
     "start_time": "2018-03-13T01:36:30.817420Z"
    }
   },
   "outputs": [
    {
     "data": {
      "text/plain": [
       "array([[  4.51359766],\n",
       "       [ 10.48006601]])"
      ]
     },
     "execution_count": 3,
     "metadata": {},
     "output_type": "execute_result"
    }
   ],
   "source": [
    "#使用它来做预测：\n",
    "X_new = np.array([[0], [2]])\n",
    "X_new_b = np.c_[np.ones((2,1)), X_new]\n",
    "y_predict = X_new_b.dot(theta_best)\n",
    "y_predict"
   ]
  },
  {
   "cell_type": "code",
   "execution_count": 4,
   "metadata": {
    "ExecuteTime": {
     "end_time": "2018-03-13T01:36:31.179709Z",
     "start_time": "2018-03-13T01:36:30.860449Z"
    }
   },
   "outputs": [
    {
     "data": {
      "image/png": "[encoded data removed]",
      "text/plain": [
       "<Figure size 432x288 with 1 Axes>"
      ]
     },
     "metadata": {},
     "output_type": "display_data"
    }
   ],
   "source": [
    "#我们可以将直线和数据在图中做比较\n",
    "plt.plot(X_new, y_predict, \"r-\")\n",
    "plt.plot(X, y, \"b.\")\n",
    "plt.axis([0, 2, 0, 15])\n",
    "plt.show()"
   ]
  },
  {
   "cell_type": "code",
   "execution_count": 5,
   "metadata": {
    "ExecuteTime": {
     "end_time": "2018-03-13T01:37:16.648034Z",
     "start_time": "2018-03-13T01:36:31.190717Z"
    }
   },
   "outputs": [
    {
     "data": {
      "text/plain": [
       "array([[  4.51359766],\n",
       "       [ 10.48006601]])"
      ]
     },
     "execution_count": 5,
     "metadata": {},
     "output_type": "execute_result"
    }
   ],
   "source": [
    "#等效的sklearn代码如下：\n",
    "from sklearn.linear_model import LinearRegression\n",
    "lin_reg = LinearRegression()\n",
    "lin_reg.fit(X, y)\n",
    "lin_reg.intercept_, lin_reg.coef_\n",
    "lin_reg.predict(X_new)"
   ]
  },
  {
   "cell_type": "markdown",
   "metadata": {},
   "source": [
    "## 计算复杂度  \n",
    "上面的方法通过计算矩阵乘法而得，通常这种计算是$O(n^{2.4})或者O(n^3)$的复杂度，所以当n很大时，计算复杂度很高。\n",
    "而因为$\\theta$与样例是线性关系，所以在处理大量样例时很快，只要能够提供足够的空间。"
   ]
  },
  {
   "cell_type": "markdown",
   "metadata": {},
   "source": [
    "## 梯度下降算法\n",
    "梯度下降算法是一个通过迭代寻优的办法：计算所在点关于$\\theta$的梯度，找到一个梯度下降的方向，并反复迭代，知道梯度降为0。  \n",
    "\n",
    "起始点的$\\theta$是随机的(称为随机初始化)，一个重要的参数是步长，又被称为学习率(learing rate)的超参数。  \n",
    "\n",
    "### 梯度下降算法的主要问题\n",
    "学习率过小会导致迭代时间过长；  \n",
    "学习率过大会导致无法找到最优点而失败；  \n",
    "最后曲线还不一定是钟型，这样会导致算法有可能停在局部最优，学习率也不好选择。\n",
    "但是MSE通常是凸曲线，即是局部最优就是全局最优。\n",
    "\n",
    "在同样的缩放条件下，MSE曲线是一个碗型，这样GDC算法就径直去向最优点。所以，在使用时，需要将各项特征缩放到相似大小。\n",
    "\n",
    "### Batch Gradient Descent  \n",
    "这个算法基于求$MSE(\\theta)$关于$\\theta_{j}$的偏导实现梯度下降：  \n",
    "$\\frac{\\partial}{\\partial\\theta_{j}}MSE(\\theta)=\\frac{2}{m}\\sum_{i=1}^{m}(\\theta^T\\cdot x^{(i)}-y^{(i)})x_{j}^{i} $  \n",
    "\n",
    "通常我们通过矩阵运算直接求得偏导向量：  \n",
    "$\\bigtriangledown_{\\theta}MSE(\\theta)=\\left(\\begin{array}{c}{\\frac{\\partial}{\\partial\\theta_{0}}MSE(\\theta)}\\\\\\frac{\\partial}{\\partial\\theta_{1}}MSE(\\theta)\\\\\\cdots\\\\\\frac{\\partial}{\\partial\\theta_{n}}MSE(\\theta) \\end{array}\\right)=\\frac {2}{m}X^T\\cdot (X\\cdot \\theta-y)$  \n",
    "这就是为什么叫Batch，因为每次迭代，都要对使用整个数据集计算得出该时刻的偏导向量。即便如此，该算法和输入特征数目成正比关系，还是比等式计算要快的多。  \n",
    "一旦我们获得了$\\bigtriangledown_{\\theta}MSE(\\theta)$，我们就能得到下一步$\\theta$向量：  \n",
    "\n",
    "   $\\theta^{(nextstep)}=\\theta-\\eta\\bigtriangledown_{\\theta}MSE(\\theta)$\n",
    "\n"
   ]
  },
  {
   "cell_type": "code",
   "execution_count": 12,
   "metadata": {
    "ExecuteTime": {
     "end_time": "2018-03-13T02:46:32.297330Z",
     "start_time": "2018-03-13T02:46:31.909321Z"
    }
   },
   "outputs": [
    {
     "data": {
      "image/png": "[encoded data removed]",
      "text/plain": [
       "<Figure size 432x288 with 1 Axes>"
      ]
     },
     "metadata": {},
     "output_type": "display_data"
    }
   ],
   "source": [
    "#如下列代码：\n",
    "eta = 0.1\n",
    "theta = np.random.randn(2,1)\n",
    "\n",
    "def plot_batch_gradient_descent(eta, n_iteration=1000, m=100, theta = np.random.randn(2,1)):\n",
    "    for iteration in range(n_iteration):\n",
    "        gradients = 2/m * X_b.T.dot(X_b.dot(theta) - y)\n",
    "        theta = theta - eta * gradients\n",
    "        if iteration % 50 == 0:\n",
    "            plt.plot(X_new,  X_new_b.dot(theta), 'b-')\n",
    "    plt.plot(X, y, \"b.\")\n",
    "    plt.axis([0, 2, 0, 15])\n",
    "    plt.show()\n",
    "    \n",
    "plot_batch_gradient_descent(eta,n_iteration,m,theta)"
   ]
  },
  {
   "cell_type": "code",
   "execution_count": 17,
   "metadata": {
    "ExecuteTime": {
     "end_time": "2018-03-13T02:50:00.942249Z",
     "start_time": "2018-03-13T02:50:00.214888Z"
    }
   },
   "outputs": [
    {
     "data": {
      "image/png": "[encoded data removed]",
      "text/plain": [
       "<Figure size 432x288 with 1 Axes>"
      ]
     },
     "metadata": {},
     "output_type": "display_data"
    },
    {
     "data": {
      "image/png": "[encoded data removed]",
      "text/plain": [
       "<Figure size 432x288 with 1 Axes>"
      ]
     },
     "metadata": {},
     "output_type": "display_data"
    }
   ],
   "source": [
    "plot_batch_gradient_descent(eta=0.001)\n",
    "plot_batch_gradient_descent(eta=0.5)"
   ]
  },
  {
   "cell_type": "markdown",
   "metadata": {},
   "source": [
    "可见，合适的$\\eta$才能找到最优解，我们可以使用gridSearch完成。但是，又需要设置一个合适的迭代次数$iteration$,最好的方法就是设置一个较大的迭代次数，在梯度向量达到一个容许值$\\epsilon$ 时停下，这样我们就大致达到最优解了：  \n",
    "收敛速度：迭代次数和学习率大致成反比$O(\\frac{1}{iteration})$"
   ]
  },
  {
   "cell_type": "markdown",
   "metadata": {},
   "source": [
    "### Stochastic Gradient Descent 随机梯度下降\n",
    "batch Gradient Descent的主要问题就是每步计算都要将整个数据集代入，而随机梯度下降采用的是相反的极端：每次只使用一个样例进行迭代计算。这样的结果相比于batch···，随机梯度下降无法稳定，因此它只能达到好的值，而不能达到最优解。但是当损失函数曲线不规则时，有利于跳出局部最优。  \n",
    "为了解决不能达到最优解的问题，我们通常采取学习率逐渐减小的办法，这叫做模拟退火方法(simulated annealing),学习率下降函数被称为学习计划(learning schedule)，如果下降过快，可能停止在局部最优，或者停滞不前，如果下降过慢，可能跳过最优点，而需要更长时间才能结束，而此时用户可能中断学习，而训练了一个次优解："
   ]
  },
  {
   "cell_type": "code",
   "execution_count": 24,
   "metadata": {
    "ExecuteTime": {
     "end_time": "2018-03-13T03:52:58.806201Z",
     "start_time": "2018-03-13T03:52:58.302347Z"
    }
   },
   "outputs": [
    {
     "data": {
      "image/png": "[encoded data removed]",
      "text/plain": [
       "<Figure size 432x288 with 1 Axes>"
      ]
     },
     "metadata": {},
     "output_type": "display_data"
    }
   ],
   "source": [
    "epochs = 50\n",
    "t0, t1 = 5, 50\n",
    "m=100\n",
    "\n",
    "def learing_schedule(t):\n",
    "    return t0 / (t + t1)\n",
    "\n",
    "theta = np.random.randn(2, 1)\n",
    "\n",
    "for epoch in range(epochs):\n",
    "    for i in range(m):\n",
    "        random_index = np.random.randint(m)\n",
    "        xi = X_b[random_index:random_index+1]\n",
    "        yi = y[random_index:random_index+1]\n",
    "        gradients = 2 * xi.T.dot(xi.dot(theta) - yi)\n",
    "        eta = learing_schedule(epoch * m + i)\n",
    "        theta = theta - eta * gradients\n",
    "        if i == 0:\n",
    "            plt.plot(X_new,  X_new_b.dot(theta), 'b-')\n",
    "\n",
    "plt.plot(X, y, \"b.\")\n",
    "plt.axis([0, 2, 0, 15])\n",
    "plt.show()"
   ]
  },
  {
   "cell_type": "markdown",
   "metadata": {},
   "source": [
    "上述的方法可能导致每个epoch中有的数据多次使用，有的数据一次没用，如果要确保每个数据有用，可以打乱原数组的数据，然后依次使用它们。\n",
    "bgd用了1000次，而sgd只用了50次就计算出不错的结果。  \n",
    "我们可以用sklearn方法实现："
   ]
  },
  {
   "cell_type": "code",
   "execution_count": 37,
   "metadata": {
    "ExecuteTime": {
     "end_time": "2018-03-13T04:06:17.921483Z",
     "start_time": "2018-03-13T04:06:17.909474Z"
    }
   },
   "outputs": [
    {
     "data": {
      "text/plain": [
       "(array([ 4.50179199]), array([ 2.96993674]))"
      ]
     },
     "execution_count": 37,
     "metadata": {},
     "output_type": "execute_result"
    }
   ],
   "source": [
    "from sklearn.linear_model import SGDRegressor\n",
    "sgd_reg = SGDRegressor(n_iter=50, penalty=None, eta0=0.1)   #这里的50相当于上面的epoch\n",
    "sgd_reg.fit(X, y.ravel())\n",
    "sgd_reg.intercept_, sgd_reg.coef_"
   ]
  },
  {
   "cell_type": "markdown",
   "metadata": {},
   "source": [
    "### Mini-batch Gradient Descent\n",
    "随机使用若干个样本组成mini-batch去计算，比sgd优秀的是，这个算法能够充分利用计算的硬件，如GPU，可以加速矩阵运算，也比SGD更接近最优解"
   ]
  },
  {
   "cell_type": "markdown",
   "metadata": {},
   "source": [
    "# 多项式回归\n",
    "如果实际曲线不是一条直线呢，一种方法是将多次的特征列为一个新特征，由此得到的依然是线性的，这种技术被称为多项式回归："
   ]
  },
  {
   "cell_type": "code",
   "execution_count": 38,
   "metadata": {
    "ExecuteTime": {
     "end_time": "2018-03-13T04:33:28.263797Z",
     "start_time": "2018-03-13T04:33:27.890030Z"
    }
   },
   "outputs": [
    {
     "data": {
      "image/png": "[encoded data removed]",
      "text/plain": [
       "<Figure size 432x288 with 1 Axes>"
      ]
     },
     "metadata": {},
     "output_type": "display_data"
    }
   ],
   "source": [
    "m = 100\n",
    "X = 6 * np.random.rand(m, 1) - 3\n",
    "y = 0.5 * X**2 + X + 2 + np.random.randn(m, 1)\n",
    "plt.plot(X, y, \"b.\")\n",
    "plt.show()"
   ]
  },
  {
   "cell_type": "code",
   "execution_count": 46,
   "metadata": {
    "ExecuteTime": {
     "end_time": "2018-03-13T05:38:56.763472Z",
     "start_time": "2018-03-13T05:38:56.641385Z"
    }
   },
   "outputs": [
    {
     "data": {
      "image/png": "[encoded data removed]",
      "text/plain": [
       "<Figure size 432x288 with 1 Axes>"
      ]
     },
     "metadata": {},
     "output_type": "display_data"
    }
   ],
   "source": [
    "#我们使用sklearn的polynomialFeature构造新的特征数组，然后使用它来做线性回归\n",
    "from sklearn.preprocessing import PolynomialFeatures\n",
    "poly_features = PolynomialFeatures(degree=2, include_bias=False)\n",
    "X_poly = poly_features.fit_transform(X)\n",
    "\n",
    "lin_reg = LinearRegression();\n",
    "lin_reg.fit(X_poly, y)\n",
    "lin_reg.intercept_, lin_reg.coef_\n",
    "plt.plot(X, y, 'b.')\n",
    "\n",
    "x_poly = np.arange(-3, 3, 0.1)\n",
    "y_predict_poly = lin_reg.intercept_ + lin_reg.coef_[:,0] * x_poly + lin_reg.coef_[:,1] * x_poly**2\n",
    "plt.plot(x_poly, y_predict_poly)\n",
    "plt.show()"
   ]
  },
  {
   "cell_type": "markdown",
   "metadata": {},
   "source": [
    "degree将所有特征组合，所以当特征很多时，degree增大，会使得特征爆发式增长；  \n",
    "# 学习曲线\n",
    "如何选择合适的degree，来保证模型不会过拟合或者欠拟合？  \n",
    "1.使用交叉验证，观察模型是否在训练集和验证集上都表现出色；  \n",
    "2.观察学习曲线，这是关于数据集大小和RMSE的曲线图："
   ]
  },
  {
   "cell_type": "code",
   "execution_count": 91,
   "metadata": {
    "ExecuteTime": {
     "end_time": "2018-03-13T08:35:13.848871Z",
     "start_time": "2018-03-13T08:35:13.578679Z"
    }
   },
   "outputs": [
    {
     "data": {
      "text/plain": [
       "[0, 80, 0, 10]"
      ]
     },
     "execution_count": 91,
     "metadata": {},
     "output_type": "execute_result"
    },
    {
     "data": {
      "image/png": "[encoded data removed]",
      "text/plain": [
       "<Figure size 432x288 with 1 Axes>"
      ]
     },
     "metadata": {},
     "output_type": "display_data"
    }
   ],
   "source": [
    "from sklearn.metrics import mean_squared_error\n",
    "from sklearn.model_selection import train_test_split\n",
    "\n",
    "def plot_learning_curves(model, X, y):\n",
    "    X_train, X_val, y_train, y_val = train_test_split(X, y, test_size=0.2)\n",
    "    train_errors, val_errors = [], []\n",
    "    for m in range(1, len(X_train)):\n",
    "        model.fit(X_train[:m], y_train[:m])\n",
    "        y_train_predict = model.predict(X_train[:m])\n",
    "        y_val_predict = model.predict(X_val)\n",
    "        train_errors.append(mean_squared_error(y_train_predict, y_train[:m]))\n",
    "        val_errors.append(mean_squared_error(y_val_predict, y_val))\n",
    "    plt.plot(np.sqrt(train_errors), 'r-+', linewidth=2, label='train')\n",
    "    plt.plot(np.sqrt(val_errors), 'b-', linewidth=3, label='val')\n",
    "    plt.legend()\n",
    "    \n",
    "lin_reg = LinearRegression()\n",
    "plot_learning_curves(lin_reg, X, y)\n",
    "plt.axis([0, 80, 0, 10])"
   ]
  },
  {
   "cell_type": "markdown",
   "metadata": {},
   "source": [
    "当模型不够强的情况下，增大数据集不能使模型表现的更好，RMSE停在一条水平线附近，因此只能通过修改模型的复杂度来提高："
   ]
  },
  {
   "cell_type": "code",
   "execution_count": 132,
   "metadata": {
    "ExecuteTime": {
     "end_time": "2018-03-13T08:52:34.498917Z",
     "start_time": "2018-03-13T08:52:34.091632Z"
    }
   },
   "outputs": [
    {
     "data": {
      "text/plain": [
       "[0, 80, 0, 10]"
      ]
     },
     "execution_count": 132,
     "metadata": {},
     "output_type": "execute_result"
    },
    {
     "data": {
      "image/png": "[encoded data removed]",
      "text/plain": [
       "<Figure size 432x288 with 1 Axes>"
      ]
     },
     "metadata": {},
     "output_type": "display_data"
    }
   ],
   "source": [
    "from sklearn.pipeline import Pipeline\n",
    "polynomial_regression = Pipeline((\n",
    "    ('poly_features', PolynomialFeatures(degree=20, include_bias=False)),\n",
    "    ('sgd_reg', LinearRegression()),\n",
    "))\n",
    "\n",
    "plot_learning_curves(polynomial_regression, X, y)\n",
    "plt.axis([0, 80, 0, 10])"
   ]
  },
  {
   "cell_type": "markdown",
   "metadata": {},
   "source": [
    "两条曲线间的间隙说明了模型过拟合。而增大数据集可以减少间隙。"
   ]
  },
  {
   "cell_type": "markdown",
   "metadata": {},
   "source": [
    "# 偏差/方差 折中\n",
    "3个常用的统计学误差表示：  \n",
    "1.偏差(bias)：这是由错误假设引起的；大偏差表明模型欠拟合  \n",
    "2.方差(variance)：这是由于模型对于测试集方差的敏感程度产生的，高方差表明模型过拟合  \n",
    "3.不可减少的误差(Irreducible errors):这是由于数据本身的噪声引起的，唯一解决办法就是清洗数据，比如检查数据来源，或者检测并去除离群值"
   ]
  },
  {
   "cell_type": "markdown",
   "metadata": {},
   "source": [
    "# 线性模型正则化  \n",
    "正则化就是约束模型的自由度，避免其过拟合。线性模型的正则化通常是为模型施加一些权重值：\n",
    "## 岭回归(Ridge Regression)  \n",
    "岭回归将$\\alpha\\sum_{i=1}^{n}\\theta_{i}^2$加入到模型的线性损失函数中，不仅使得模型不会过拟合，而且限制系数尽可能的小。如果$\\alpha$很大，那么$\\theta$每一项都几近为0，拟合的曲线就几乎是一条穿过数据中心的水平线。下面是岭回归的损失函数表达式：  \n",
    "$J(\\theta)=MSE(\\theta)+\\alpha\\frac{1}{2}\\sum_{i=1}^n\\theta_i^2$  \n",
    "这是一个对数据范围敏感的方法，所以使用前要将数据缩放至合适范围。  \n",
    "岭回归的解式为：  \n",
    "$\\hat{\\theta}=(X^T\\cdot X+\\alpha A)^{-1}\\cdot X^T\\cdot y$"
   ]
  },
  {
   "cell_type": "code",
   "execution_count": 75,
   "metadata": {
    "ExecuteTime": {
     "end_time": "2018-03-13T07:10:10.389496Z",
     "start_time": "2018-03-13T07:10:10.369482Z"
    }
   },
   "outputs": [
    {
     "data": {
      "text/plain": [
       "array([[ 5.26777536]])"
      ]
     },
     "execution_count": 75,
     "metadata": {},
     "output_type": "execute_result"
    }
   ],
   "source": [
    "from sklearn.linear_model import Ridge\n",
    "ridge_reg = Ridge(alpha=1, solver=\"cholesky\")\n",
    "ridge_reg.fit(X, y)\n",
    "ridge_reg.predict([[1.5]])"
   ]
  },
  {
   "cell_type": "code",
   "execution_count": 76,
   "metadata": {
    "ExecuteTime": {
     "end_time": "2018-03-13T07:11:38.411851Z",
     "start_time": "2018-03-13T07:11:38.394338Z"
    }
   },
   "outputs": [
    {
     "data": {
      "text/plain": [
       "array([ 4.4883655])"
      ]
     },
     "execution_count": 76,
     "metadata": {},
     "output_type": "execute_result"
    }
   ],
   "source": [
    "#在sgd中使用岭回归：\n",
    "sgd_reg = SGDRegressor(penalty=\"l2\")    #l2规则对应于岭回归的平方加项\n",
    "sgd_reg.fit(X, y.ravel())\n",
    "sgd_reg.predict([[1.5]])"
   ]
  },
  {
   "cell_type": "markdown",
   "metadata": {},
   "source": [
    "## LASSO回归\n",
    "LASSO回归将绝对值加入到模型的损失函数中，被称为l1规则：  \n",
    "$J(\\theta)=MSE(\\theta)+\\alpha\\sum_{i=1}^n|\\theta_i|$  \n",
    "特点是这种算法会几乎完全消除非重要特征的权重，这相当于是特征选择，并且将输出一个稀疏矩阵，lasso方法只能接近最优点。"
   ]
  },
  {
   "cell_type": "code",
   "execution_count": 77,
   "metadata": {
    "ExecuteTime": {
     "end_time": "2018-03-13T07:53:47.547258Z",
     "start_time": "2018-03-13T07:53:47.437680Z"
    }
   },
   "outputs": [
    {
     "data": {
      "text/plain": [
       "array([ 5.23230375])"
      ]
     },
     "execution_count": 77,
     "metadata": {},
     "output_type": "execute_result"
    }
   ],
   "source": [
    "#也可以使用linearregression的l1规则实现\n",
    "from sklearn.linear_model import Lasso\n",
    "lasso_reg = Lasso(alpha=0.1)\n",
    "lasso_reg.fit(X, y)\n",
    "lasso_reg.predict([[1.5]])"
   ]
  },
  {
   "cell_type": "markdown",
   "metadata": {},
   "source": [
    "## 弹性网(Elastic Net)\n",
    "将l1和l2结合：  \n",
    "$J(\\theta)=MSE(\\theta)+r\\alpha\\sum_{i=1}^n|\\theta_i|+\\frac{1-r}{2}\\alpha\\sum_{i=1}^n\\theta_i^2$  "
   ]
  },
  {
   "cell_type": "code",
   "execution_count": 78,
   "metadata": {
    "ExecuteTime": {
     "end_time": "2018-03-13T08:08:48.864953Z",
     "start_time": "2018-03-13T08:08:48.845940Z"
    }
   },
   "outputs": [
    {
     "data": {
      "text/plain": [
       "array([ 5.23004135])"
      ]
     },
     "execution_count": 78,
     "metadata": {},
     "output_type": "execute_result"
    }
   ],
   "source": [
    "from sklearn.linear_model import ElasticNet\n",
    "elastic_net = ElasticNet(alpha=0.1, l1_ratio=0.5)\n",
    "elastic_net.fit(X, y)\n",
    "elastic_net.predict([[1.5]])"
   ]
  },
  {
   "cell_type": "markdown",
   "metadata": {},
   "source": [
    "## 模型选择\n",
    "那我们改用哪个模型呢，岭回归是一个不错的默认值，而当我们需要去掉非关键特征来分析时，可以使用lasso或者弹性网，一般来说当特征数目大于训练数目的时候或者某些数据有强关联时，弹性网比lasso更好。"
   ]
  },
  {
   "cell_type": "markdown",
   "metadata": {},
   "source": [
    "## 提前中断训练\n",
    "在GDC这种迭代算法中，与上述正则方法不同，为了避免过拟合，我们可以在验证误差达到最小值时，提前结束迭代。\n",
    "一种识别方法是，只要出现比过去最小值大的数，就停止迭代。"
   ]
  },
  {
   "cell_type": "code",
   "execution_count": 119,
   "metadata": {
    "ExecuteTime": {
     "end_time": "2018-03-13T08:46:37.127974Z",
     "start_time": "2018-03-13T08:46:37.119967Z"
    }
   },
   "outputs": [],
   "source": [
    "from sklearn.preprocessing import StandardScaler\n",
    "scaler = StandardScaler()\n",
    "X_scaled = scaler.fit_transform(X)\n",
    "\n",
    "X_train_scaled, X_val_scaled, y_train, y_val = train_test_split(X_scaled, y, test_size=0.2) "
   ]
  },
  {
   "cell_type": "code",
   "execution_count": 189,
   "metadata": {
    "ExecuteTime": {
     "end_time": "2018-03-13T09:31:30.620642Z",
     "start_time": "2018-03-13T09:31:30.051241Z"
    }
   },
   "outputs": [
    {
     "data": {
      "image/png": "[encoded data removed]",
      "text/plain": [
       "<Figure size 432x288 with 2 Axes>"
      ]
     },
     "metadata": {},
     "output_type": "display_data"
    }
   ],
   "source": [
    "from sklearn.base import clone\n",
    "\n",
    "sgd_reg = SGDRegressor(n_iter=1, warm_start=True, penalty=None, \n",
    "                      learning_rate=\"constant\", eta0=0.0005)\n",
    "#warm_start为TRUE，能够使每次循环开始时，sgd_reg从上次迭代结果继续\n",
    "minimum_val_error = float(\"inf\")\n",
    "best_epoch = None\n",
    "best_model = None\n",
    "\n",
    "epochs, best_epochs, minimum_val_errors = [], [], []\n",
    "for epoch in range(1000):\n",
    "    sgd_reg.fit(X_train_scaled, y_train.ravel())\n",
    "    y_val_predict = sgd_reg.predict(X_val_scaled)\n",
    "    val_error = mean_squared_error(y_val_predict, y_val)\n",
    "    if val_error < minimum_val_error:\n",
    "        minimum_val_error = val_error\n",
    "        best_epoch = epoch\n",
    "        best_model = clone(sgd_reg)\n",
    "    best_epochs.append(best_epoch)\n",
    "    minimum_val_errors.append(minimum_val_error)    \n",
    "    epochs.append(epoch)\n",
    "\n",
    "ax1 = plt.subplot()\n",
    "ax1.plot(epochs, 'b.', linewidth=2, label='epoch')\n",
    "ax1.plot(best_epochs, 'r-', linewidth=2, label='best_epoch')\n",
    "\n",
    "ax2 = ax1.twinx()\n",
    "ax2.plot(minimum_val_errors, 'g+', linewidth=3, label='minimum_val_error')\n",
    "\n",
    "ax1.legend()\n",
    "ax2.legend()\n",
    "plt.show()"
   ]
  },
  {
   "cell_type": "markdown",
   "metadata": {},
   "source": [
    "# 逻辑回归\n",
    "## 基本概念\n",
    "逻辑回归预测概率公式（向量形式）  \n",
    "$\\hat{p}=h_{\\theta}(X)=\\sigma(\\theta^T\\cdot X) $  \n",
    "其中$\\sigma(\\cdot)$是逻辑函数，如下：  \n",
    "$\\sigma(t)=\\frac{1}{1+e^{-t}}$  \n",
    "当概率大于等于0.5时，我们让输出为1，小于0.5时，输出为0：  \n",
    "$\\hat{y}=\\left \\{ \\begin{array}{ll}1 & if\\quad\\hat{p}>=0.5 \\\\0 & if\\quad\\hat{p}<0.5 \\end{array}\\right.$  \n",
    "\n",
    "逻辑回归的损失函数：(单个样例)  \n",
    "$c(\\theta)=\\left \\{ \\begin{array}{ll}-log(\\hat{p}) & if\\quad y=1 ,\\\\-log(1-\\hat{p}) & if\\quad y=0. \\end{array}\\right.$  \n",
    "数据集：\n",
    "$J(\\theta)=-\\frac{1}{m}\\sum_{i=1}^m[y^{(i)}log(\\hat{p}^{(i)})+(1-y^{(i)})log(1-\\hat{p}^{(i)})]$  \n",
    "目前没有直接的等式算法可以得到参数集，但是我们仍然可以用梯度下降算法：  \n",
    "$\\frac{\\partial}{\\partial\\theta_j}J(\\theta)=\\frac{1}{m}\\sum_{i=1}^m(\\sigma(\\theta^T\\cdot x^{(i)})-y^{(i)})x_j^{(i)}$"
   ]
  },
  {
   "cell_type": "markdown",
   "metadata": {},
   "source": [
    "## 决策限\n",
    "我们使用著名的iris数据集来说明："
   ]
  },
  {
   "cell_type": "code",
   "execution_count": 190,
   "metadata": {
    "ExecuteTime": {
     "end_time": "2018-03-13T10:54:48.719623Z",
     "start_time": "2018-03-13T10:54:47.236587Z"
    }
   },
   "outputs": [
    {
     "data": {
      "text/plain": [
       "['target', 'data', 'feature_names', 'DESCR', 'target_names']"
      ]
     },
     "execution_count": 190,
     "metadata": {},
     "output_type": "execute_result"
    }
   ],
   "source": [
    "from sklearn import datasets\n",
    "iris = datasets.load_iris()\n",
    "list(iris.keys())"
   ]
  },
  {
   "cell_type": "code",
   "execution_count": 192,
   "metadata": {
    "ExecuteTime": {
     "end_time": "2018-03-13T10:57:29.251586Z",
     "start_time": "2018-03-13T10:57:29.243581Z"
    }
   },
   "outputs": [],
   "source": [
    "X = iris[\"data\"][:,3:] #petal width\n",
    "y = (iris[\"target\"] == 2).astype(np.int) #1 if Iris-Virginica, else 0"
   ]
  },
  {
   "cell_type": "code",
   "execution_count": 197,
   "metadata": {
    "ExecuteTime": {
     "end_time": "2018-03-13T11:12:08.335142Z",
     "start_time": "2018-03-13T11:12:08.089466Z"
    }
   },
   "outputs": [
    {
     "data": {
      "text/plain": [
       "[<matplotlib.lines.Line2D at 0x260a5ad60b8>]"
      ]
     },
     "execution_count": 197,
     "metadata": {},
     "output_type": "execute_result"
    },
    {
     "data": {
      "image/png": "[encoded data removed]",
      "text/plain": [
       "<Figure size 432x288 with 1 Axes>"
      ]
     },
     "metadata": {},
     "output_type": "display_data"
    }
   ],
   "source": [
    "from sklearn.linear_model import LogisticRegression\n",
    "\n",
    "log_reg = LogisticRegression()\n",
    "log_reg.fit(X, y)\n",
    "\n",
    "X_new = np.linspace(0, 3, 1000).reshape(-1, 1)\n",
    "y_proba = log_reg.predict_proba(X_new)\n",
    "plt.plot(X_new, y_proba[:, 1], 'g-', label=\"Iris-Virginica\")\n",
    "plt.plot(X_new, y_proba[:, 0], 'b--', label=\"Not Iris-Virginica\")"
   ]
  },
  {
   "cell_type": "markdown",
   "metadata": {},
   "source": [
    "在1.6附近概率大致为0.5，大于0.5的我们认为是正例，小于的我们认为是反例。\n",
    "逻辑回归也可以用l1和l2正则化，默认为l2正则，sklearn中正则化参数使用C，而不是$\\alpha$，C越大，正则化程度越小。"
   ]
  },
  {
   "cell_type": "markdown",
   "metadata": {},
   "source": [
    "## Softmax回归\n",
    "逻辑回归支持多分类，而不需要训练和结合若干个2分类器，这叫做softmax回归或者多项逻辑回归；  \n",
    "思路很简单，当给出一个样例x，就计算其对第k个类的分数，用来评估其是第k类的概率。这个分数计算函数称为softmax分数(也叫nomalized exponential归一化指数)  \n",
    "$s_k(x)=\\theta_k^T\\cdot x$\n",
    "注意这里单个类的参数是向量$\\theta$，所有类的参数放在一起是一个矩阵$\\Theta$\n",
    "一旦这个矩阵，我们就能计算是第k类的概率：  \n",
    "### softmax function:\n",
    "$\\hat{p}_k=\\sigma(s(x))_k=\\frac{exp(s_k(x))}{\\sum_{j=1}^kexp(s_j(x))}$  \n",
    "其中$K$是类别的顺序数  \n",
    "$s(x)$是一个包含各个类分数的向量  \n",
    "$\\sigma (s(x))_k$是由$s(x)$得到的x属于k的可能性  \n",
    "### softmax回归的预测函数  \n",
    "$\\hat{y}=argmax\\quad \\sigma(s(x))_k=argmax\\quad s_k(x)=argmax(\\theta_k^T\\cdot x)$  \n",
    "其中argmax是返回使得函数最大的变量的操作符。每次只返回一个变量。  \n",
    "下面是交叉熵来表示的softmax的损失函数:  \n",
    "$J(\\Theta)=-\\frac{1}{m}\\sum_{i=1}^m\\sum_{k=1}^Ky_k^{(i)}log(\\hat{p}_k^{(i)})$\n",
    "其中$y_k^{(i)}$当第i个样例属于k类时为1，否则为0.  \n",
    "  \n",
    "对$\\theta_k$的导向量：  \n",
    "$\\bigtriangledown\\theta_kJ(\\Theta)=\\frac{1}{m}\\sum_{i=1}^m(\\hat{p}_k^{(i)}-y_k^{(i)})x^{(i)}$  \n",
    "  \n",
    "sklearn中logisticregression默认使用OvA执行多分类，也可以通过设置Multi_class为\"multinomial\"切换为softmax regression， 还必须特例化支持softmax回归的solver，如\"lbfgs\":"
   ]
  },
  {
   "cell_type": "code",
   "execution_count": 198,
   "metadata": {
    "ExecuteTime": {
     "end_time": "2018-03-13T13:37:50.656837Z",
     "start_time": "2018-03-13T13:37:50.245054Z"
    }
   },
   "outputs": [
    {
     "data": {
      "text/plain": [
       "array([2])"
      ]
     },
     "execution_count": 198,
     "metadata": {},
     "output_type": "execute_result"
    }
   ],
   "source": [
    "X = iris[\"data\"][:, (2, 3)]\n",
    "y = iris[\"target\"]\n",
    "\n",
    "softmax_reg = LogisticRegression(multi_class='multinomial', solver=\"lbfgs\", C=10)\n",
    "softmax_reg.fit(X, y)\n",
    "\n",
    "softmax_reg.predict([[5, 2]])"
   ]
  },
  {
   "cell_type": "code",
   "execution_count": 199,
   "metadata": {
    "ExecuteTime": {
     "end_time": "2018-03-13T13:39:48.193973Z",
     "start_time": "2018-03-13T13:39:48.175461Z"
    }
   },
   "outputs": [
    {
     "data": {
      "text/plain": [
       "array([[  6.33134077e-07,   5.75276067e-02,   9.42471760e-01]])"
      ]
     },
     "execution_count": 199,
     "metadata": {},
     "output_type": "execute_result"
    }
   ],
   "source": [
    "softmax_reg.predict_proba([[5, 2]])"
   ]
  }
 ],
 "metadata": {
  "hide_input": false,
  "kernelspec": {
   "display_name": "Python 3",
   "language": "python",
   "name": "python3"
  },
  "language_info": {
   "codemirror_mode": {
    "name": "ipython",
    "version": 3
   },
   "file_extension": ".py",
   "mimetype": "text/x-python",
   "name": "python",
   "nbconvert_exporter": "python",
   "pygments_lexer": "ipython3",
   "version": "3.5.4"
  },
  "latex_envs": {
   "LaTeX_envs_menu_present": true,
   "autoclose": false,
   "autocomplete": true,
   "bibliofile": "biblio.bib",
   "cite_by": "apalike",
   "current_citInitial": 1,
   "eqLabelWithNumbers": true,
   "eqNumInitial": 1,
   "hotkeys": {
    "equation": "Ctrl-E",
    "itemize": "Ctrl-I"
   },
   "labels_anchors": false,
   "latex_user_defs": false,
   "report_style_numbering": false,
   "user_envs_cfg": false
  },
  "nbTranslate": {
   "displayLangs": [
    "*"
   ],
   "hotkey": "alt-t",
   "langInMainMenu": true,
   "sourceLang": "en",
   "targetLang": "fr",
   "useGoogleTranslate": true
  },
  "toc": {
   "nav_menu": {},
   "number_sections": true,
   "sideBar": true,
   "skip_h1_title": false,
   "title_cell": "Table of Contents",
   "title_sidebar": "Contents",
   "toc_cell": false,
   "toc_position": {},
   "toc_section_display": true,
   "toc_window_display": true
  },
  "varInspector": {
   "cols": {
    "lenName": 16,
    "lenType": 16,
    "lenVar": 40
   },
   "kernels_config": {
    "python": {
     "delete_cmd_postfix": "",
     "delete_cmd_prefix": "del ",
     "library": "var_list.py",
     "varRefreshCmd": "print(var_dic_list())"
    },
    "r": {
     "delete_cmd_postfix": ") ",
     "delete_cmd_prefix": "rm(",
     "library": "var_list.r",
     "varRefreshCmd": "cat(var_dic_list()) "
    }
   },
   "types_to_exclude": [
    "module",
    "function",
    "builtin_function_or_method",
    "instance",
    "_Feature"
   ],
   "window_display": false
  }
 },
 "nbformat": 4,
 "nbformat_minor": 2
}
