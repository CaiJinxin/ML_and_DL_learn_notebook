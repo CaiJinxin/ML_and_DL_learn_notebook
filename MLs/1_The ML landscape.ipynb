{
 "cells": [
  {
   "cell_type": "markdown",
   "metadata": {},
   "source": [
    "#   机器学习绪论"
   ]
  },
  {
   "cell_type": "markdown",
   "metadata": {},
   "source": [
    "## 什么是机器学习"
   ]
  },
  {
   "cell_type": "markdown",
   "metadata": {},
   "source": [
    "一般意义上说，或者广义角度看：机器学习(Machine Learn)指在通过显式编程的情况下赋予机器学习能力；或者狭义上(从工程角度上)看就是一个机器自己学习经验E的过程，这个经验E由样本值T，观察值P得出，并不断的由观察到的样本提升或强化。"
   ]
  },
  {
   "cell_type": "markdown",
   "metadata": {},
   "source": [
    "##  机器学习分类"
   ]
  },
  {
   "cell_type": "markdown",
   "metadata": {},
   "source": [
    "通过以下几个属性对机器学习的方法进行分类：\n",
    "1) 是否需要人类的监督\n",
    "2）是否能够通过联机实现\n",
    "3）是简单的验证人类已知的知识，还是通过模式检测来探求一些未知的事物联系"
   ]
  },
  {
   "cell_type": "markdown",
   "metadata": {},
   "source": [
    "### 监督/非监督学习\n",
    "#### 监督学习(Supervised Learning)\n",
    "监督学习中训练数据(train data)带有标记(label):\n",
    "一个典型的监督学习模型就是分类(classification)，即将样本分成若干类；另一个典型模型是回归(regression)，即从样本的数个特征值来预测摸一个特征数值。以下是几个重要的监督学习算法：\n",
    "1.k近邻(k-Nearest Neighbors)；2.线性回归(Linear Regression)；3.逻辑回归(Logistic Regression)；4.支持向量机(SVMs);5.决策树和随机森林(Decision Tree & Random Forests);6.部分的神经网络(Neural networks)\n",
    "#### 非监督学习(Unsupervisd Learning)\n",
    "非监督学习中训练数据是无标记的(unlabeled):\n",
    "以下是几个重要的非监督学习算法：\n",
    "1.聚类(Clustering)：k-Mean;分层聚类分析(Hierarchical Cluster Analysis);最大期望(Expectation Maximization);\n",
    "2.可视化和降维：主成分分析(Principal Component Analysis);核PCA；局部线性聚合(Locally-Linear Embedding);t分布随机近邻聚合(t-distributed Stochatic Neighbor Embedding);\n",
    "3.联合规则学习：Aprior;Eclat;\n",
    "#### 半监督学习(Semisupervised Learning)\n",
    "有些算法可以处理部分标记数据，通常大部分无标记数据和一些有标记数据，这类算法成为半监督学习；\n",
    "#### 强化学习(Reinforcement Learing)\n",
    "强化学习系统由 Agent policy reward组成；\n",
    "#### 批和在线学习(Batch and Online Learning)\n",
    "batch learning 需要使用所有数据来训练，通常需要离线训练，也成offline learning。\n",
    "Online learning 模型则是在数据序列下进行训练，mini-batches\n"
   ]
  },
  {
   "cell_type": "markdown",
   "metadata": {},
   "source": [
    "### 机器学习面临的主要挑战\n",
    "#### 训练数据的不足\n",
    "#### 非代表性训练数据\n",
    "#### 训练数据的质量不足\n",
    "####无"
   ]
  }
 ],
 "metadata": {
  "hide_input": false,
  "kernelspec": {
   "display_name": "Python 3",
   "language": "python",
   "name": "python3"
  },
  "language_info": {
   "codemirror_mode": {
    "name": "ipython",
    "version": 3
   },
   "file_extension": ".py",
   "mimetype": "text/x-python",
   "name": "python",
   "nbconvert_exporter": "python",
   "pygments_lexer": "ipython3",
   "version": "3.6.4"
  },
  "latex_envs": {
   "LaTeX_envs_menu_present": true,
   "autoclose": false,
   "autocomplete": true,
   "bibliofile": "biblio.bib",
   "cite_by": "apalike",
   "current_citInitial": 1,
   "eqLabelWithNumbers": true,
   "eqNumInitial": 1,
   "hotkeys": {
    "equation": "Ctrl-E",
    "itemize": "Ctrl-I"
   },
   "labels_anchors": false,
   "latex_user_defs": false,
   "report_style_numbering": false,
   "user_envs_cfg": false
  },
  "nbTranslate": {
   "displayLangs": [
    "*"
   ],
   "hotkey": "alt-t",
   "langInMainMenu": true,
   "sourceLang": "en",
   "targetLang": "fr",
   "useGoogleTranslate": true
  },
  "toc": {
   "nav_menu": {},
   "number_sections": true,
   "sideBar": true,
   "skip_h1_title": false,
   "title_cell": "Table of Contents",
   "title_sidebar": "Contents",
   "toc_cell": false,
   "toc_position": {},
   "toc_section_display": true,
   "toc_window_display": true
  },
  "varInspector": {
   "cols": {
    "lenName": 16,
    "lenType": 16,
    "lenVar": 40
   },
   "kernels_config": {
    "python": {
     "delete_cmd_postfix": "",
     "delete_cmd_prefix": "del ",
     "library": "var_list.py",
     "varRefreshCmd": "print(var_dic_list())"
    },
    "r": {
     "delete_cmd_postfix": ") ",
     "delete_cmd_prefix": "rm(",
     "library": "var_list.r",
     "varRefreshCmd": "cat(var_dic_list()) "
    }
   },
   "types_to_exclude": [
    "module",
    "function",
    "builtin_function_or_method",
    "instance",
    "_Feature"
   ],
   "window_display": false
  }
 },
 "nbformat": 4,
 "nbformat_minor": 2
}
